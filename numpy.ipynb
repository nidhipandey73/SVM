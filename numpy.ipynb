{
 "cells": [
  {
   "cell_type": "code",
   "execution_count": 1,
   "id": "dcadf8b4-59e0-44a9-bdae-fa83bbffe961",
   "metadata": {},
   "outputs": [
    {
     "data": {
      "text/plain": [
       "14"
      ]
     },
     "execution_count": 1,
     "metadata": {},
     "output_type": "execute_result"
    }
   ],
   "source": [
    "2+3+9"
   ]
  },
  {
   "cell_type": "code",
   "execution_count": 2,
   "id": "131db462-36b2-4514-bf5f-5af6cece2d21",
   "metadata": {},
   "outputs": [
    {
     "name": "stdout",
     "output_type": "stream",
     "text": [
      "(73, 0.3)\n",
      "(67, 0.2)\n",
      "(43, 0.5)\n"
     ]
    }
   ],
   "source": [
    "kanto = [73,67,43]\n",
    "weights= [0.3, 0.2, 0.5]\n",
    "# zip gives us pairs made from the corresponding elements of the parameters.\n",
    "for item in zip(kanto,weights):\n",
    "    print(item)\n"
   ]
  },
  {
   "cell_type": "code",
   "execution_count": 3,
   "id": "f4bb9192-8d08-43e8-85c3-d8207c636519",
   "metadata": {},
   "outputs": [
    {
     "name": "stdout",
     "output_type": "stream",
     "text": [
      "73\n",
      "0.3\n",
      "67\n",
      "0.2\n",
      "43\n",
      "0.5\n"
     ]
    }
   ],
   "source": [
    "# to get the pairs not in a tuple but in separate variables we use two variables.\n",
    "for x,y in zip(kanto, weights):\n",
    "    print(x)\n",
    "    print(y)"
   ]
  },
  {
   "cell_type": "code",
   "execution_count": 4,
   "id": "2b72a34c-8387-4fcd-bf11-2f9adbcf5b16",
   "metadata": {},
   "outputs": [],
   "source": [
    "import numpy as np"
   ]
  },
  {
   "cell_type": "code",
   "execution_count": 5,
   "id": "d430e291-27af-478b-99b1-abf7fd831725",
   "metadata": {},
   "outputs": [],
   "source": [
    "kanto = np.array([73,67,43])"
   ]
  },
  {
   "cell_type": "code",
   "execution_count": 6,
   "id": "d10a2888-199b-4449-84dc-78b2583c0e30",
   "metadata": {},
   "outputs": [],
   "source": [
    "weights = np.array([0.3,0.2,0.5])"
   ]
  },
  {
   "cell_type": "code",
   "execution_count": 7,
   "id": "a13c3715-edb6-42dd-9f58-b215aeaa5ba3",
   "metadata": {},
   "outputs": [
    {
     "data": {
      "text/plain": [
       "numpy.ndarray"
      ]
     },
     "execution_count": 7,
     "metadata": {},
     "output_type": "execute_result"
    }
   ],
   "source": [
    "type(kanto)"
   ]
  },
  {
   "cell_type": "code",
   "execution_count": 8,
   "id": "8c6fb25f-d4ca-40f1-9551-28389a8b9c8f",
   "metadata": {},
   "outputs": [
    {
     "data": {
      "text/plain": [
       "56.8"
      ]
     },
     "execution_count": 8,
     "metadata": {},
     "output_type": "execute_result"
    }
   ],
   "source": [
    "np.dot(kanto, weights)"
   ]
  },
  {
   "cell_type": "code",
   "execution_count": 9,
   "id": "a26eca97-97ca-482d-8d93-c37094dc0025",
   "metadata": {},
   "outputs": [
    {
     "name": "stdout",
     "output_type": "stream",
     "text": [
      "(73, 0.3)\n",
      "(67, 0.2)\n",
      "(43, 0.5)\n",
      "CPU times: total: 0 ns\n",
      "Wall time: 0 ns\n"
     ]
    }
   ],
   "source": [
    "%%time\n",
    "kanto = [73,67,43]\n",
    "weights= [0.3, 0.2, 0.5]\n",
    "# zip gives us pairs made from the corresponding elements of the parameters.\n",
    "for item in zip(kanto,weights):\n",
    "    print(item)\n",
    "\n"
   ]
  },
  {
   "cell_type": "code",
   "execution_count": 10,
   "id": "707c50f0-a644-4ee9-834e-a15b03843c47",
   "metadata": {},
   "outputs": [],
   "source": [
    "# 2d array\n",
    "climate_data = np.array([[73, 67, 43],\n",
    "                         [91, 88, 64],\n",
    "                         [87, 134, 58],\n",
    "                         [102, 43, 37],\n",
    "                         [69, 96, 70]])"
   ]
  },
  {
   "cell_type": "code",
   "execution_count": 11,
   "id": "4bbbac9b-b150-4312-9dcd-8e97ff5dc84d",
   "metadata": {},
   "outputs": [
    {
     "data": {
      "text/plain": [
       "(5, 3)"
      ]
     },
     "execution_count": 11,
     "metadata": {},
     "output_type": "execute_result"
    }
   ],
   "source": [
    "climate_data.shape"
   ]
  },
  {
   "cell_type": "code",
   "execution_count": 12,
   "id": "0ccc83ad-2e05-41bd-b52a-c4c63491a0ac",
   "metadata": {},
   "outputs": [],
   "source": [
    "# 3d array\n",
    "arr3 = np.array([\n",
    "    [[7,8,9],\n",
    "     [10,11,12]],\n",
    "    [[13,14,15],\n",
    "     [16,17,18]]])"
   ]
  },
  {
   "cell_type": "code",
   "execution_count": 13,
   "id": "b5a027d7-6b68-46cb-beb7-6aaa6a1da1dc",
   "metadata": {},
   "outputs": [
    {
     "data": {
      "text/plain": [
       "(2, 2, 3)"
      ]
     },
     "execution_count": 13,
     "metadata": {},
     "output_type": "execute_result"
    }
   ],
   "source": [
    "arr3.shape"
   ]
  },
  {
   "cell_type": "code",
   "execution_count": 14,
   "id": "b1241cc5-e3f8-4e80-bb0c-1afb2095bc58",
   "metadata": {},
   "outputs": [],
   "source": [
    "arr1 = np.array([1,\"star\",3])"
   ]
  },
  {
   "cell_type": "code",
   "execution_count": 15,
   "id": "9b0f5c6f-d809-4d7f-8f49-9bd0fd45b30f",
   "metadata": {
    "scrolled": true
   },
   "outputs": [
    {
     "data": {
      "text/plain": [
       "dtype('<U11')"
      ]
     },
     "execution_count": 15,
     "metadata": {},
     "output_type": "execute_result"
    }
   ],
   "source": [
    "arr1.dtype\n",
    "# dtype('<U11') - a string datatype."
   ]
  },
  {
   "cell_type": "code",
   "execution_count": 16,
   "id": "297fc6ff-d076-4b0e-9fe2-3cdeaf1d8b8b",
   "metadata": {},
   "outputs": [
    {
     "data": {
      "text/plain": [
       "('globaltemperature.csv', <http.client.HTTPMessage at 0x1e9f92e95d0>)"
      ]
     },
     "execution_count": 16,
     "metadata": {},
     "output_type": "execute_result"
    }
   ],
   "source": [
    "import urllib.request\n",
    "urllib.request.urlretrieve('https://query.data.world/s/7fvonctqfoovuopbax6vhmrbsvo5fj?dws=00000','globaltemperature.csv')"
   ]
  },
  {
   "cell_type": "code",
   "execution_count": 17,
   "id": "2b8539e6-2556-458a-8de4-2cb3ed3e0d78",
   "metadata": {},
   "outputs": [],
   "source": [
    "generic_food = np.genfromtxt('globaltemperature.csv',delimiter = ',', skip_header = 1)"
   ]
  },
  {
   "cell_type": "code",
   "execution_count": 18,
   "id": "2b31ed8e-e6e4-4318-9c3d-754a0ab5a926",
   "metadata": {},
   "outputs": [
    {
     "data": {
      "text/plain": [
       "array([[   nan,  3.034,  3.574, ...,    nan,    nan,    nan],\n",
       "       [   nan,  3.083,  3.702, ...,    nan,    nan,    nan],\n",
       "       [   nan,  5.626,  3.076, ...,    nan,    nan,    nan],\n",
       "       ...,\n",
       "       [   nan, 10.801,  0.102, ...,  0.115, 16.29 ,  0.062],\n",
       "       [   nan,  7.433,  0.119, ...,  0.106, 15.252,  0.063],\n",
       "       [   nan,  5.518,  0.1  , ...,  0.099, 14.774,  0.062]])"
      ]
     },
     "execution_count": 18,
     "metadata": {},
     "output_type": "execute_result"
    }
   ],
   "source": [
    "generic_food"
   ]
  },
  {
   "cell_type": "code",
   "execution_count": 19,
   "id": "3968ca7d-95ba-4fca-9bc0-86509e8072a2",
   "metadata": {},
   "outputs": [
    {
     "data": {
      "text/plain": [
       "(3192, 9)"
      ]
     },
     "execution_count": 19,
     "metadata": {},
     "output_type": "execute_result"
    }
   ],
   "source": [
    "generic_food.shape"
   ]
  },
  {
   "cell_type": "code",
   "execution_count": 20,
   "id": "c3dd26f4-febc-4502-bd9b-afadb46e63b9",
   "metadata": {},
   "outputs": [
    {
     "name": "stdout",
     "output_type": "stream",
     "text": [
      "C:\\Users\\pande\n"
     ]
    }
   ],
   "source": [
    "import os\n",
    "print(os.getcwd())"
   ]
  },
  {
   "cell_type": "code",
   "execution_count": 21,
   "id": "c00d366f-8bd3-4d3b-9c82-749831c2708c",
   "metadata": {},
   "outputs": [],
   "source": [
    "# axis =1 -> will add a coloumn  and axis = 0  -> will add a row with concatenate method."
   ]
  },
  {
   "cell_type": "code",
   "execution_count": 22,
   "id": "0367bc71-db5b-43d5-b13a-dbf6a62c27e5",
   "metadata": {},
   "outputs": [],
   "source": [
    "arr2 = np.array([[1,2,3,1],\n",
    "        [4,5,6,2],\n",
    "        [7,8,9,3]])"
   ]
  },
  {
   "cell_type": "code",
   "execution_count": 23,
   "id": "6023f779-a30c-4dc4-b6b8-2221a8c80b35",
   "metadata": {},
   "outputs": [],
   "source": [
    "arr3 = np.array([[11,12,13,14],\n",
    "                 [15,16,17,18],\n",
    "                 [19,20,21,22]])"
   ]
  },
  {
   "cell_type": "code",
   "execution_count": 24,
   "id": "02db47fe-151b-49b8-8045-6e61d74d20ba",
   "metadata": {},
   "outputs": [
    {
     "data": {
      "text/plain": [
       "array([[12, 14, 16, 15],\n",
       "       [19, 21, 23, 20],\n",
       "       [26, 28, 30, 25]])"
      ]
     },
     "execution_count": 24,
     "metadata": {},
     "output_type": "execute_result"
    }
   ],
   "source": [
    "arr2+arr3"
   ]
  },
  {
   "cell_type": "code",
   "execution_count": 25,
   "id": "cd991015-3b5f-4c85-bc85-901dac9ba407",
   "metadata": {},
   "outputs": [
    {
     "data": {
      "text/plain": [
       "array([[ 4,  5,  6,  4],\n",
       "       [ 7,  8,  9,  5],\n",
       "       [10, 11, 12,  6]])"
      ]
     },
     "execution_count": 25,
     "metadata": {},
     "output_type": "execute_result"
    }
   ],
   "source": [
    "# adding a scalar\n",
    "arr2 + 3"
   ]
  },
  {
   "cell_type": "code",
   "execution_count": 26,
   "id": "3717dbe7-3081-4f51-a1f9-9d506654907f",
   "metadata": {},
   "outputs": [],
   "source": [
    "arr3 = np.array([\n",
    "                [[1,2,3,4],\n",
    "                 [5,6,7,8]],\n",
    "                [[9,10,11,12],\n",
    "                 [13,14,15,16]],\n",
    "                [[17,18,19,20],\n",
    "                 [21,22,23,24]]])"
   ]
  },
  {
   "cell_type": "code",
   "execution_count": 27,
   "id": "6697f59e-4b20-44b6-9f8b-58a8f6648a34",
   "metadata": {},
   "outputs": [
    {
     "data": {
      "text/plain": [
       "(3, 2, 4)"
      ]
     },
     "execution_count": 27,
     "metadata": {},
     "output_type": "execute_result"
    }
   ],
   "source": [
    "arr3.shape"
   ]
  },
  {
   "cell_type": "code",
   "execution_count": 28,
   "id": "e2ed264b-38fe-4470-b9d2-31f98c84f7fa",
   "metadata": {},
   "outputs": [
    {
     "data": {
      "text/plain": [
       "15"
      ]
     },
     "execution_count": 28,
     "metadata": {},
     "output_type": "execute_result"
    }
   ],
   "source": [
    "# single element\n",
    "arr3[1,1,2]"
   ]
  },
  {
   "cell_type": "code",
   "execution_count": 29,
   "id": "feef389a-1d39-4dd7-b24b-aca1a94415d6",
   "metadata": {},
   "outputs": [
    {
     "data": {
      "text/plain": [
       "array([[[ 9, 10, 11, 12],\n",
       "        [13, 14, 15, 16]],\n",
       "\n",
       "       [[17, 18, 19, 20],\n",
       "        [21, 22, 23, 24]]])"
      ]
     },
     "execution_count": 29,
     "metadata": {},
     "output_type": "execute_result"
    }
   ],
   "source": [
    "# subarray using ranges\n",
    "arr3[1:]"
   ]
  },
  {
   "cell_type": "code",
   "execution_count": 30,
   "id": "e7c5362a-29a2-4222-bf12-2388871a916e",
   "metadata": {},
   "outputs": [
    {
     "data": {
      "text/plain": [
       "array([[[ 9, 10, 11, 12]],\n",
       "\n",
       "       [[17, 18, 19, 20]]])"
      ]
     },
     "execution_count": 30,
     "metadata": {},
     "output_type": "execute_result"
    }
   ],
   "source": [
    "arr3[1:,0:1]"
   ]
  },
  {
   "cell_type": "code",
   "execution_count": 31,
   "id": "1909c42d-c59a-4fc2-bbbf-d3c387f79b62",
   "metadata": {},
   "outputs": [
    {
     "data": {
      "text/plain": [
       "array([[[ 9, 10]],\n",
       "\n",
       "       [[17, 18]]])"
      ]
     },
     "execution_count": 31,
     "metadata": {},
     "output_type": "execute_result"
    }
   ],
   "source": [
    "arr3[1:,0:1,:2]"
   ]
  },
  {
   "cell_type": "code",
   "execution_count": 32,
   "id": "1ad78aa5-a030-4336-8a2d-8bb0ea5a0147",
   "metadata": {},
   "outputs": [
    {
     "data": {
      "text/plain": [
       "array([13, 14, 15, 16])"
      ]
     },
     "execution_count": 32,
     "metadata": {},
     "output_type": "execute_result"
    }
   ],
   "source": [
    "arr3[1,1]"
   ]
  },
  {
   "cell_type": "code",
   "execution_count": 33,
   "id": "2e09ad25-ee82-4277-8000-30d2e0aecba1",
   "metadata": {},
   "outputs": [
    {
     "data": {
      "text/plain": [
       "array([16, 24])"
      ]
     },
     "execution_count": 33,
     "metadata": {},
     "output_type": "execute_result"
    }
   ],
   "source": [
    "# mixing indices and ranges\n",
    "arr3[1:,1,3]"
   ]
  },
  {
   "cell_type": "code",
   "execution_count": 34,
   "id": "cb379fd3-c33f-472b-9e8f-3b29dc78e305",
   "metadata": {},
   "outputs": [
    {
     "data": {
      "text/plain": [
       "array([[13, 14, 15],\n",
       "       [21, 22, 23]])"
      ]
     },
     "execution_count": 34,
     "metadata": {},
     "output_type": "execute_result"
    }
   ],
   "source": [
    "arr3[1:,1,:3]"
   ]
  },
  {
   "cell_type": "code",
   "execution_count": 35,
   "id": "9bc396d1-cf80-447a-a7dd-d6dea05800bd",
   "metadata": {},
   "outputs": [
    {
     "data": {
      "text/plain": [
       "array([[0., 0.],\n",
       "       [0., 0.],\n",
       "       [0., 0.]])"
      ]
     },
     "execution_count": 35,
     "metadata": {},
     "output_type": "execute_result"
    }
   ],
   "source": [
    "# other ways of creating numpy arrays\n",
    "# all zeroes\n",
    "np.zeros((3,2))"
   ]
  },
  {
   "cell_type": "code",
   "execution_count": 36,
   "id": "094e6871-c2e8-4600-9afd-50d6b2b91dc1",
   "metadata": {},
   "outputs": [
    {
     "data": {
      "text/plain": [
       "array([[[1., 1., 1.],\n",
       "        [1., 1., 1.]],\n",
       "\n",
       "       [[1., 1., 1.],\n",
       "        [1., 1., 1.]]])"
      ]
     },
     "execution_count": 36,
     "metadata": {},
     "output_type": "execute_result"
    }
   ],
   "source": [
    "# all ones\n",
    "np.ones([2,2,3])"
   ]
  },
  {
   "cell_type": "code",
   "execution_count": 37,
   "id": "1582fe61-d30b-4753-a9fd-692a0d51bb1b",
   "metadata": {},
   "outputs": [
    {
     "data": {
      "text/plain": [
       "array([[1., 0., 0.],\n",
       "       [0., 1., 0.],\n",
       "       [0., 0., 1.]])"
      ]
     },
     "execution_count": 37,
     "metadata": {},
     "output_type": "execute_result"
    }
   ],
   "source": [
    "# identity matrix\n",
    "np.eye(3)"
   ]
  },
  {
   "cell_type": "code",
   "execution_count": 38,
   "id": "9e16485c-714b-4d5b-8055-62558f12f2a3",
   "metadata": {},
   "outputs": [
    {
     "data": {
      "text/plain": [
       "array([0.09643938, 0.79353455, 0.18408451, 0.11415272, 0.33550858])"
      ]
     },
     "execution_count": 38,
     "metadata": {},
     "output_type": "execute_result"
    }
   ],
   "source": [
    "# random vector\n",
    "np.random.rand(5)"
   ]
  },
  {
   "cell_type": "code",
   "execution_count": 39,
   "id": "1dd81600-20fe-4d7d-a045-36efebac8604",
   "metadata": {},
   "outputs": [
    {
     "data": {
      "text/plain": [
       "array([[ 0.49308799, -2.30559743, -1.03359398],\n",
       "       [-0.44518148,  1.3011888 ,  1.00965089]])"
      ]
     },
     "execution_count": 39,
     "metadata": {},
     "output_type": "execute_result"
    }
   ],
   "source": [
    "# random matrix\n",
    "np.random.randn(2,3)"
   ]
  },
  {
   "cell_type": "code",
   "execution_count": 40,
   "id": "6436810e-028a-4b4e-8251-7706384c74c0",
   "metadata": {},
   "outputs": [
    {
     "data": {
      "text/plain": [
       "array([[56, 56, 56],\n",
       "       [56, 56, 56]])"
      ]
     },
     "execution_count": 40,
     "metadata": {},
     "output_type": "execute_result"
    }
   ],
   "source": [
    "# array with fixed values - ((dimensions), fixed value)\n",
    "np.full((2,3),56)"
   ]
  },
  {
   "cell_type": "code",
   "execution_count": 41,
   "id": "6990b036-1c2a-4ccc-b286-252b2d84cf79",
   "metadata": {},
   "outputs": [
    {
     "data": {
      "text/plain": [
       "array([10, 13, 16, 19, 22, 25, 28, 31, 34, 37, 40, 43, 46, 49, 52, 55, 58,\n",
       "       61, 64, 67, 70, 73, 76, 79, 82, 85, 88])"
      ]
     },
     "execution_count": 41,
     "metadata": {},
     "output_type": "execute_result"
    }
   ],
   "source": [
    "# range with start, end and step; won't include \"end\" number.\n",
    "np.arange(10,90,3)"
   ]
  },
  {
   "cell_type": "code",
   "execution_count": 42,
   "id": "9b159b7e-b1b3-4895-a26d-aef684761aa7",
   "metadata": {},
   "outputs": [
    {
     "data": {
      "text/plain": [
       "(27,)"
      ]
     },
     "execution_count": 42,
     "metadata": {},
     "output_type": "execute_result"
    }
   ],
   "source": [
    "np.arange(10,90,3).shape"
   ]
  },
  {
   "cell_type": "code",
   "execution_count": 43,
   "id": "e9c36b96-0eaa-48f4-a134-de2a096d9515",
   "metadata": {},
   "outputs": [
    {
     "data": {
      "text/plain": [
       "array([[[10, 13, 16],\n",
       "        [19, 22, 25],\n",
       "        [28, 31, 34]],\n",
       "\n",
       "       [[37, 40, 43],\n",
       "        [46, 49, 52],\n",
       "        [55, 58, 61]],\n",
       "\n",
       "       [[64, 67, 70],\n",
       "        [73, 76, 79],\n",
       "        [82, 85, 88]]])"
      ]
     },
     "execution_count": 43,
     "metadata": {},
     "output_type": "execute_result"
    }
   ],
   "source": [
    "np.arange(10,90,3).reshape(3,3,3) # dimensions should be compatible with array size."
   ]
  },
  {
   "cell_type": "code",
   "execution_count": 44,
   "id": "118bddb6-25a6-40a2-a26e-eff73a720772",
   "metadata": {},
   "outputs": [
    {
     "data": {
      "text/plain": [
       "array([ 3.,  6.,  9., 12., 15., 18., 21., 24., 27.])"
      ]
     },
     "execution_count": 44,
     "metadata": {},
     "output_type": "execute_result"
    }
   ],
   "source": [
    "# equally spaced numbers in a range\n",
    "# start, end, no.of elements in array; \"start\" and \"end\" numbers, will be included.\n",
    "np.linspace(3,27,9)"
   ]
  },
  {
   "cell_type": "code",
   "execution_count": 45,
   "id": "37978438-b6a6-4747-a73c-9883e07ec801",
   "metadata": {},
   "outputs": [],
   "source": [
    "# numpy questions-\n",
    "import numpy as np"
   ]
  },
  {
   "cell_type": "code",
   "execution_count": 46,
   "id": "8c76df59-e065-4f13-ae66-aedf4af3159e",
   "metadata": {},
   "outputs": [
    {
     "name": "stdout",
     "output_type": "stream",
     "text": [
      "1.26.0\n"
     ]
    }
   ],
   "source": [
    "print(np.__version__)"
   ]
  },
  {
   "cell_type": "code",
   "execution_count": 47,
   "id": "9ea83953-55af-44ac-ae42-38db34e10c15",
   "metadata": {},
   "outputs": [
    {
     "name": "stdout",
     "output_type": "stream",
     "text": [
      "Build Dependencies:\n",
      "  blas:\n",
      "    detection method: pkgconfig\n",
      "    found: true\n",
      "    include directory: /c/opt/64/include\n",
      "    lib directory: /c/opt/64/lib\n",
      "    name: openblas64\n",
      "    openblas configuration: USE_64BITINT=1 DYNAMIC_ARCH=1 DYNAMIC_OLDER= NO_CBLAS=\n",
      "      NO_LAPACK= NO_LAPACKE= NO_AFFINITY=1 USE_OPENMP= SKYLAKEX MAX_THREADS=2\n",
      "    pc file directory: C:/opt/64/lib/pkgconfig\n",
      "    version: 0.3.23.dev\n",
      "  lapack:\n",
      "    detection method: pkgconfig\n",
      "    found: true\n",
      "    include directory: /c/opt/64/include\n",
      "    lib directory: /c/opt/64/lib\n",
      "    name: openblas64\n",
      "    openblas configuration: USE_64BITINT=1 DYNAMIC_ARCH=1 DYNAMIC_OLDER= NO_CBLAS=\n",
      "      NO_LAPACK= NO_LAPACKE= NO_AFFINITY=1 USE_OPENMP= SKYLAKEX MAX_THREADS=2\n",
      "    pc file directory: C:/opt/64/lib/pkgconfig\n",
      "    version: 0.3.23.dev\n",
      "Compilers:\n",
      "  c:\n",
      "    commands: cl\n",
      "    linker: link\n",
      "    name: msvc\n",
      "    version: 19.29.30152\n",
      "  c++:\n",
      "    commands: cl\n",
      "    linker: link\n",
      "    name: msvc\n",
      "    version: 19.29.30152\n",
      "  cython:\n",
      "    commands: cython\n",
      "    linker: cython\n",
      "    name: cython\n",
      "    version: 3.0.2\n",
      "Machine Information:\n",
      "  build:\n",
      "    cpu: x86_64\n",
      "    endian: little\n",
      "    family: x86_64\n",
      "    system: windows\n",
      "  host:\n",
      "    cpu: x86_64\n",
      "    endian: little\n",
      "    family: x86_64\n",
      "    system: windows\n",
      "Python Information:\n",
      "  path: C:\\Users\\runneradmin\\AppData\\Local\\Temp\\cibw-run-1xawrzqm\\cp311-win_amd64\\build\\venv\\Scripts\\python.exe\n",
      "  version: '3.11'\n",
      "SIMD Extensions:\n",
      "  baseline:\n",
      "  - SSE\n",
      "  - SSE2\n",
      "  - SSE3\n",
      "  found:\n",
      "  - SSSE3\n",
      "  - SSE41\n",
      "  - POPCNT\n",
      "  - SSE42\n",
      "  - AVX\n",
      "  - F16C\n",
      "  - FMA3\n",
      "  - AVX2\n",
      "  - AVX512F\n",
      "  - AVX512CD\n",
      "  - AVX512_SKX\n",
      "  - AVX512_CLX\n",
      "  - AVX512_CNL\n",
      "  - AVX512_ICL\n",
      "\n"
     ]
    }
   ],
   "source": [
    "np.show_config()"
   ]
  },
  {
   "cell_type": "code",
   "execution_count": 48,
   "id": "545b0121-14e6-45c4-bd88-af50371639de",
   "metadata": {},
   "outputs": [
    {
     "data": {
      "text/plain": [
       "array([0., 0., 0., 0., 0., 0., 0., 0., 0., 0.])"
      ]
     },
     "execution_count": 48,
     "metadata": {},
     "output_type": "execute_result"
    }
   ],
   "source": [
    "np.zeros((10))"
   ]
  },
  {
   "cell_type": "code",
   "execution_count": 49,
   "id": "7941cf3e-5735-4db8-bb83-f3b4dd098500",
   "metadata": {},
   "outputs": [
    {
     "name": "stdout",
     "output_type": "stream",
     "text": [
      "[49 48 47 46 45 44 43 42 41 40 39 38 37 36 35 34 33 32 31 30 29 28 27 26\n",
      " 25 24 23 22 21 20 19 18 17 16 15 14 13 12 11 10  9  8  7  6  5  4  3  2\n",
      "  1]\n"
     ]
    }
   ],
   "source": [
    "# reverse a vector\n",
    "z = np.arange(1,50)\n",
    "z= z[::-1]\n",
    "print(z)"
   ]
  },
  {
   "cell_type": "code",
   "execution_count": 50,
   "id": "0cd2d82a-152c-454f-83bc-7b446626f9ba",
   "metadata": {},
   "outputs": [
    {
     "data": {
      "text/plain": [
       "array([[0, 1, 2],\n",
       "       [3, 4, 5],\n",
       "       [6, 7, 8]])"
      ]
     },
     "execution_count": 50,
     "metadata": {},
     "output_type": "execute_result"
    }
   ],
   "source": [
    "np.arange(0,9,1).reshape(3,3)"
   ]
  },
  {
   "cell_type": "code",
   "execution_count": 51,
   "id": "5ade637b-bf46-49d9-a4c7-d737ecd42b64",
   "metadata": {},
   "outputs": [
    {
     "name": "stdout",
     "output_type": "stream",
     "text": [
      "(array([0, 2, 3, 5, 6, 8], dtype=int64),)\n"
     ]
    }
   ],
   "source": [
    "nz = np.nonzero([1,0,4,6,0,7,8,0,9,0])\n",
    "print(nz) "
   ]
  },
  {
   "cell_type": "code",
   "execution_count": 52,
   "id": "9a46aff4-efbf-4b9b-b826-1877e71c97ad",
   "metadata": {},
   "outputs": [],
   "source": [
    "import os"
   ]
  },
  {
   "cell_type": "code",
   "execution_count": 53,
   "id": "ac658a80-0b45-475b-b9c3-ce2139c42399",
   "metadata": {},
   "outputs": [
    {
     "data": {
      "text/plain": [
       "'C:\\\\Users\\\\pande'"
      ]
     },
     "execution_count": 53,
     "metadata": {},
     "output_type": "execute_result"
    }
   ],
   "source": [
    "# get current working directory\n",
    "os.getcwd()"
   ]
  },
  {
   "cell_type": "code",
   "execution_count": 54,
   "id": "dd59f019-305a-45c6-868e-f360a99296de",
   "metadata": {},
   "outputs": [
    {
     "data": {
      "text/plain": [
       "['.bash_history',\n",
       " '.cache',\n",
       " '.ipynb_checkpoints',\n",
       " '.ipython',\n",
       " '.jupyter',\n",
       " '.vscode',\n",
       " 'AppData',\n",
       " 'Application Data',\n",
       " 'Contacts',\n",
       " 'Cookies',\n",
       " 'data',\n",
       " 'Documents',\n",
       " 'Downloads',\n",
       " 'Favorites',\n",
       " 'GitTutorials',\n",
       " 'globaltemperature.csv',\n",
       " 'IntelGraphicsProfiles',\n",
       " 'italy-covid-daywise.csv',\n",
       " 'Links',\n",
       " 'Local Settings',\n",
       " 'moving car',\n",
       " 'moving cars',\n",
       " 'Music',\n",
       " 'My Documents',\n",
       " 'NetHood',\n",
       " 'NTUSER.DAT',\n",
       " 'ntuser.dat.LOG1',\n",
       " 'ntuser.dat.LOG2',\n",
       " 'NTUSER.DAT{a2332f18-cdbf-11ec-8680-002248483d79}.TM.blf',\n",
       " 'NTUSER.DAT{a2332f18-cdbf-11ec-8680-002248483d79}.TMContainer00000000000000000001.regtrans-ms',\n",
       " 'NTUSER.DAT{a2332f18-cdbf-11ec-8680-002248483d79}.TMContainer00000000000000000002.regtrans-ms',\n",
       " 'ntuser.ini',\n",
       " 'numpy.ipynb',\n",
       " 'OneDrive',\n",
       " 'pandas.ipynb',\n",
       " 'PrintHood',\n",
       " 'PycharmProjects',\n",
       " 'Recent',\n",
       " 'Saved Games',\n",
       " 'Searches',\n",
       " 'SendTo',\n",
       " 'source',\n",
       " 'Start Menu',\n",
       " 'Templates',\n",
       " 'Videos']"
      ]
     },
     "execution_count": 54,
     "metadata": {},
     "output_type": "execute_result"
    }
   ],
   "source": [
    "# relative path; \".\" refers to the current directory\n",
    "# files with '.' in the beginning are hidden files\n",
    "# returns a list\n",
    "os.listdir('.')"
   ]
  },
  {
   "cell_type": "code",
   "execution_count": 55,
   "id": "796326a1-6a56-4363-9d80-a8bef2aaad00",
   "metadata": {},
   "outputs": [
    {
     "data": {
      "text/plain": [
       "['.bash_history',\n",
       " '.cache',\n",
       " '.ipynb_checkpoints',\n",
       " '.ipython',\n",
       " '.jupyter',\n",
       " '.vscode',\n",
       " 'AppData',\n",
       " 'Application Data',\n",
       " 'Contacts',\n",
       " 'Cookies',\n",
       " 'data',\n",
       " 'Documents',\n",
       " 'Downloads',\n",
       " 'Favorites',\n",
       " 'GitTutorials',\n",
       " 'globaltemperature.csv',\n",
       " 'IntelGraphicsProfiles',\n",
       " 'italy-covid-daywise.csv',\n",
       " 'Links',\n",
       " 'Local Settings',\n",
       " 'moving car',\n",
       " 'moving cars',\n",
       " 'Music',\n",
       " 'My Documents',\n",
       " 'NetHood',\n",
       " 'NTUSER.DAT',\n",
       " 'ntuser.dat.LOG1',\n",
       " 'ntuser.dat.LOG2',\n",
       " 'NTUSER.DAT{a2332f18-cdbf-11ec-8680-002248483d79}.TM.blf',\n",
       " 'NTUSER.DAT{a2332f18-cdbf-11ec-8680-002248483d79}.TMContainer00000000000000000001.regtrans-ms',\n",
       " 'NTUSER.DAT{a2332f18-cdbf-11ec-8680-002248483d79}.TMContainer00000000000000000002.regtrans-ms',\n",
       " 'ntuser.ini',\n",
       " 'numpy.ipynb',\n",
       " 'OneDrive',\n",
       " 'pandas.ipynb',\n",
       " 'PrintHood',\n",
       " 'PycharmProjects',\n",
       " 'Recent',\n",
       " 'Saved Games',\n",
       " 'Searches',\n",
       " 'SendTo',\n",
       " 'source',\n",
       " 'Start Menu',\n",
       " 'Templates',\n",
       " 'Videos']"
      ]
     },
     "execution_count": 55,
     "metadata": {},
     "output_type": "execute_result"
    }
   ],
   "source": [
    "# absolute path\n",
    "os.listdir('C:\\\\Users\\\\pande')"
   ]
  },
  {
   "cell_type": "code",
   "execution_count": 56,
   "id": "e058c399-b076-4f55-b0be-58b65b57dc89",
   "metadata": {},
   "outputs": [
    {
     "data": {
      "text/plain": [
       "['My Music', 'My Pictures', 'My Videos']"
      ]
     },
     "execution_count": 56,
     "metadata": {},
     "output_type": "execute_result"
    }
   ],
   "source": [
    "os.listdir('C:\\\\Users\\\\pande\\\\Documents')"
   ]
  },
  {
   "cell_type": "code",
   "execution_count": 57,
   "id": "6d313522-5efe-4338-9871-b8baf51dcbda",
   "metadata": {},
   "outputs": [],
   "source": [
    "os.makedirs('.\\\\data',exist_ok=True)"
   ]
  },
  {
   "cell_type": "code",
   "execution_count": 58,
   "id": "0b07823f-a4e7-4d1e-bf81-fbf3265ff891",
   "metadata": {},
   "outputs": [
    {
     "data": {
      "text/plain": [
       "True"
      ]
     },
     "execution_count": 58,
     "metadata": {},
     "output_type": "execute_result"
    }
   ],
   "source": [
    "'data' in os.listdir('.')"
   ]
  },
  {
   "cell_type": "code",
   "execution_count": 59,
   "id": "5532ec7d-d345-44e6-9b2d-adf85e509184",
   "metadata": {},
   "outputs": [
    {
     "data": {
      "text/plain": [
       "['dataset1.csv', 'dataset2.csv']"
      ]
     },
     "execution_count": 59,
     "metadata": {},
     "output_type": "execute_result"
    }
   ],
   "source": [
    "os.listdir('.\\\\data')"
   ]
  },
  {
   "cell_type": "code",
   "execution_count": 60,
   "id": "a7b9acff-b647-4787-ad61-352ffd4b84f3",
   "metadata": {},
   "outputs": [],
   "source": [
    "url1 = 'https://query.data.world/s/zyzmxirsumvhst3okx3ikhuc6dmkv7?dws=00000'\n",
    "url2 = 'https://query.data.world/s/tnwqa7j665s2lszruuip2jtkfvsqhk?dws=00000'"
   ]
  },
  {
   "cell_type": "code",
   "execution_count": 61,
   "id": "c95a892f-a57e-46c5-9777-8223b1d88f85",
   "metadata": {},
   "outputs": [],
   "source": [
    "import urllib.request"
   ]
  },
  {
   "cell_type": "code",
   "execution_count": 62,
   "id": "2f1911ac-8edc-401d-89d4-8e850c836973",
   "metadata": {},
   "outputs": [
    {
     "data": {
      "text/plain": [
       "('.\\\\data\\\\dataset1.csv', <http.client.HTTPMessage at 0x1e9f980e7d0>)"
      ]
     },
     "execution_count": 62,
     "metadata": {},
     "output_type": "execute_result"
    }
   ],
   "source": [
    "urllib.request.urlretrieve(url1,'.\\\\data\\\\dataset1.csv')"
   ]
  },
  {
   "cell_type": "code",
   "execution_count": 63,
   "id": "fb08457e-01d2-4968-9f06-37531d70c27b",
   "metadata": {},
   "outputs": [
    {
     "data": {
      "text/plain": [
       "('.\\\\data\\\\dataset2.csv', <http.client.HTTPMessage at 0x1e9f986e5d0>)"
      ]
     },
     "execution_count": 63,
     "metadata": {},
     "output_type": "execute_result"
    }
   ],
   "source": [
    "urllib.request.urlretrieve(url2,'.\\\\data\\\\dataset2.csv')"
   ]
  },
  {
   "cell_type": "code",
   "execution_count": 64,
   "id": "7571a6c8-9f22-4904-8e4f-2bc46163d4b9",
   "metadata": {},
   "outputs": [
    {
     "data": {
      "text/plain": [
       "['dataset1.csv', 'dataset2.csv']"
      ]
     },
     "execution_count": 64,
     "metadata": {},
     "output_type": "execute_result"
    }
   ],
   "source": [
    " os.listdir('.\\\\data')"
   ]
  },
  {
   "cell_type": "code",
   "execution_count": 65,
   "id": "040534ee-0c17-4680-9444-909289805a15",
   "metadata": {},
   "outputs": [],
   "source": [
    "# open('path', mode=' ') - returns a file object or a file pointer.\n",
    "# 'b' - binary mode - it is for a file that cannot be read as text - images.\n",
    "file1 = open('.\\\\data\\\\dataset1.csv', mode= 'r')"
   ]
  },
  {
   "cell_type": "code",
   "execution_count": 66,
   "id": "5e68e463-4757-432c-9df9-ebd478d3d6ee",
   "metadata": {},
   "outputs": [],
   "source": [
    "file1_contents = file1.read()\n",
    "# file1_contents - is a string."
   ]
  },
  {
   "cell_type": "code",
   "execution_count": 67,
   "id": "fb2a2a03-d8cb-4aa4-a95a-acdc64ef435a",
   "metadata": {},
   "outputs": [],
   "source": [
    "# when you open a file that file is put into the system RAM.\n",
    "file1.close()"
   ]
  },
  {
   "cell_type": "code",
   "execution_count": 68,
   "id": "f7a9a04d-9558-4222-b8b1-9d79fa6cf7a4",
   "metadata": {},
   "outputs": [],
   "source": [
    "with open('.\\\\data\\\\dataset2.csv','r') as file2:\n",
    "    file2_contents = file2.read()"
   ]
  },
  {
   "cell_type": "code",
   "execution_count": 69,
   "id": "4ad2175f-8c9e-4864-be5e-d0dc8a8eae68",
   "metadata": {},
   "outputs": [],
   "source": [
    "with open('.\\\\data\\\\dataset2.csv','r') as file2:\n",
    "    file2_contents = file2.readlines()"
   ]
  },
  {
   "cell_type": "code",
   "execution_count": 70,
   "id": "96a9b873-e980-46c9-abe3-b80c61260317",
   "metadata": {},
   "outputs": [],
   "source": [
    "file1 = open('.\\\\data\\\\dataset1.csv', mode= 'r')\n",
    "file1_contents = file1.readlines()"
   ]
  },
  {
   "cell_type": "code",
   "execution_count": 71,
   "id": "02c6a2f9-9ae1-45f0-b929-909abf1eb38a",
   "metadata": {},
   "outputs": [],
   "source": [
    "def parse_header(header_line):\n",
    "    return header_line.strip().split(',')"
   ]
  },
  {
   "cell_type": "code",
   "execution_count": 72,
   "id": "9dd53446-aff0-4e76-8db2-2a927fbdca65",
   "metadata": {},
   "outputs": [],
   "source": [
    "headers = parse_header(file1_contents[0])"
   ]
  },
  {
   "cell_type": "code",
   "execution_count": 73,
   "id": "94b5749a-c5b8-441f-88a4-3abe895f7fe1",
   "metadata": {},
   "outputs": [
    {
     "data": {
      "text/plain": [
       "['FOOD NAME', 'SCIENTIFIC NAME', 'GROUP', 'SUB GROUP']"
      ]
     },
     "execution_count": 73,
     "metadata": {},
     "output_type": "execute_result"
    }
   ],
   "source": [
    "headers"
   ]
  },
  {
   "cell_type": "code",
   "execution_count": 74,
   "id": "c8966ab6-9e58-4c91-b94b-307001123528",
   "metadata": {},
   "outputs": [],
   "source": [
    "def parse_values(data_line):\n",
    "    values = []\n",
    "    for item in data_line.strip().split(','):\n",
    "        if type(item)!= str:\n",
    "            values.append(float(item))\n",
    "        elif item == '':\n",
    "            values.append(0.0)\n",
    "        else:\n",
    "            values.append(item)\n",
    "    return values"
   ]
  },
  {
   "cell_type": "code",
   "execution_count": 75,
   "id": "93bd2370-d2c5-47f2-b839-9aae9ccbd0ff",
   "metadata": {},
   "outputs": [
    {
     "data": {
      "text/plain": [
       "['Angelica', 'Angelica keiskei', 'Herbs and Spices', 'Herbs']"
      ]
     },
     "execution_count": 75,
     "metadata": {},
     "output_type": "execute_result"
    }
   ],
   "source": [
    "parse_values(file1_contents[1])"
   ]
  },
  {
   "cell_type": "code",
   "execution_count": 76,
   "id": "51c9e144-b1f8-43d2-9651-84a6fba5f31c",
   "metadata": {},
   "outputs": [],
   "source": [
    "def create_item_dict(values,header):\n",
    "    result = {}\n",
    "    for value,header in zip(values, header):\n",
    "        result[header] = value\n",
    "    return result"
   ]
  },
  {
   "cell_type": "code",
   "execution_count": 77,
   "id": "8887a14a-b5ef-4b6d-94ae-0cf8e12dada2",
   "metadata": {},
   "outputs": [],
   "source": [
    "def read_csv(path):\n",
    "    result = []\n",
    "    # open the file in read mode\n",
    "    with open(path,'r') as f:\n",
    "        # get a list of lines\n",
    "        lines = f.readlines()\n",
    "        # parse the header\n",
    "        headers = parse_header(lines[0])\n",
    "        # loop over the remaining lines\n",
    "        for data_line in lines[1:]:\n",
    "            # parse the values\n",
    "            values = parse_values(data_line)\n",
    "            # create a dicyionary using values and headers\n",
    "            item_dict = create_item_dict(values,headers)\n",
    "            # add the dictionary item to the list\n",
    "            result.append(item_dict)\n",
    "    return result"
   ]
  },
  {
   "cell_type": "code",
   "execution_count": 78,
   "id": "fc7b0648-59b1-48a1-ad14-f987dda55edb",
   "metadata": {},
   "outputs": [],
   "source": [
    "# read_csv('.\\\\data\\\\dataset2.csv')"
   ]
  }
 ],
 "metadata": {
  "kernelspec": {
   "display_name": "Python 3 (ipykernel)",
   "language": "python",
   "name": "python3"
  },
  "language_info": {
   "codemirror_mode": {
    "name": "ipython",
    "version": 3
   },
   "file_extension": ".py",
   "mimetype": "text/x-python",
   "name": "python",
   "nbconvert_exporter": "python",
   "pygments_lexer": "ipython3",
   "version": "3.11.4"
  }
 },
 "nbformat": 4,
 "nbformat_minor": 5
}
