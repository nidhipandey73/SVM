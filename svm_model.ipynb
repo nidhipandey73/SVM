{
 "cells": [
  {
   "cell_type": "code",
   "execution_count": 1,
   "id": "59f161ce-5edb-4506-877c-333d47465976",
   "metadata": {},
   "outputs": [],
   "source": [
    "import numpy as np\n",
    "\n",
    "class svm_classifier():\n",
    "\n",
    "    #initiating the hyperparameters\n",
    "    def __init__(self, learning_rate, no_of_iteration, lambda_parameter):\n",
    "        self.learning_rate = learning_rate\n",
    "        self.no_of_iteration = no_of_iteration\n",
    "        self.lambda_parameter = lambda_parameter\n",
    "\n",
    "    # fitting the dataset to svm classifier\n",
    "    def fit(self, X, Y):\n",
    "        self.m, self.n = X.shape\n",
    "        self.w = np.zeros(self.n)\n",
    "        self.b = 0\n",
    "        self.X = X\n",
    "        self.Y = Y\n",
    "\n",
    "        for i in range(self.no_of_iteration):\n",
    "            self.update_weights() \n",
    "\n",
    "    # function for updating weight and bias value\n",
    "    def update_weights(self):\n",
    "\n",
    "        # label encoding\n",
    "        y_label = np.where(self.Y <= 0, -1, 1)\n",
    "\n",
    "        for index, x_i in enumerate(self.X):\n",
    "            condition = y_label[index] * (np.dot(x_i, self.w) - self.b)>=1\n",
    "            if(condition == True):\n",
    "                dw = 2* self.lambda_parameter * self.w\n",
    "                db = 0\n",
    "            else:\n",
    "                dw = 2* self.lambda_parameter * self.w - np.dot(x_i, y_label[index])\n",
    "            self.w = self.w - self.learning_rate * dw\n",
    "            self.b = self.b - self.learning_rate * db\n",
    "        \n",
    "    # predict the label for a given input value\n",
    "    def predict(self, X):\n",
    "        output = np.dot(X, self.w) - self.b\n",
    "        predicted_labels = np.sign(output)\n",
    "        y_hat = np.where(predicted_labels == -1, 0, 1) \n",
    "        return y_hat  \n"
   ]
  }
 ],
 "metadata": {
  "kernelspec": {
   "display_name": "Python 3 (ipykernel)",
   "language": "python",
   "name": "python3"
  },
  "language_info": {
   "codemirror_mode": {
    "name": "ipython",
    "version": 3
   },
   "file_extension": ".py",
   "mimetype": "text/x-python",
   "name": "python",
   "nbconvert_exporter": "python",
   "pygments_lexer": "ipython3",
   "version": "3.11.4"
  }
 },
 "nbformat": 4,
 "nbformat_minor": 5
}
